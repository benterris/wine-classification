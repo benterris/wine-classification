{
 "cells": [
  {
   "cell_type": "code",
   "execution_count": 12,
   "metadata": {},
   "outputs": [],
   "source": [
    "import torch\n",
    "import numpy as np\n",
    "from torchtext import data\n",
    "\n",
    "SEED = 1452 # for reproducibility\n",
    "torch.manual_seed(SEED)\n",
    "torch.backends.cudnn.deterministic = True\n",
    "\n",
    "TEXT = data.Field(tokenize= 'spacy')\n",
    "LABEL = data.LabelField(dtype=torch.float)\n"
   ]
  },
  {
   "cell_type": "code",
   "execution_count": 3,
   "metadata": {},
   "outputs": [
    {
     "name": "stdout",
     "output_type": "stream",
     "text": [
      "129976\n"
     ]
    }
   ],
   "source": [
    "# Load dataset\n",
    "with open('datasets/winemag-data-130k-v2.csv') as f:\n",
    "    lines = f.readlines()\n",
    "\n",
    "print(len(lines))"
   ]
  },
  {
   "cell_type": "code",
   "execution_count": 4,
   "metadata": {},
   "outputs": [
    {
     "name": "stdout",
     "output_type": "stream",
     "text": [
      "38992\n",
      "90984\n"
     ]
    }
   ],
   "source": [
    "# Split in train and test\n",
    "# @Pierre: en fait on utilisera plutot le split de torchtext (voir plus bas)\n",
    "\n",
    "TEST_SET_SIZE = .3\n",
    "\n",
    "indices = list(range(len(lines)))\n",
    "np.random.seed(SEED)\n",
    "np.random.shuffle(indices)\n",
    "split_index = int(TEST_SET_SIZE*len(lines))\n",
    "train_indices = indices[:split_index]\n",
    "test_indices = indices[split_index:]\n",
    "train_set = [lines[k] for k in train_indices]\n",
    "test_set = [lines[k] for k in test_indices]\n",
    "\n",
    "print(len(train_set))\n",
    "print(len(test_set))"
   ]
  },
  {
   "cell_type": "code",
   "execution_count": 6,
   "metadata": {},
   "outputs": [
    {
     "name": "stdout",
     "output_type": "stream",
     "text": [
      "{'points': '87', 'title': 'Nicosia 2013 Vulkà Bianco  (Etna)', 'description': \"Aromas include tropical fruit, broom, brimstone and dried herb. The palate isn't overly expressive, offering unripened apple, citrus and dried sage alongside brisk acidity.\", 'taster_name': 'Kerin O’Keefe', 'taster_twitter_handle': '@kerinokeefe', 'price': None, 'designation': 'Vulkà Bianco', 'variety': 'White Blend', 'region_1': 'Etna', 'region_2': None, 'province': 'Sicily & Sardinia', 'country': 'Italy', 'winery': 'Nicosia'}\n",
      "{\"points\": \"87\", \"title\": \"Nicosia 2013 Vulk\\u00e0 Bianco  (Etna)\", \"description\": \"Aromas include tropical fruit, broom, brimstone and dried herb. The palate isn't overly expressive, offering unripened apple, citrus and dried sage alongside brisk acidity.\", \"taster_name\": \"Kerin O\\u2019Keefe\", \"taster_twitter_handle\": \"@kerinokeefe\", \"price\": null, \"designation\": \"Vulk\\u00e0 Bianco\", \"variety\": \"White Blend\", \"region_1\": \"Etna\", \"region_2\": null, \"province\": \"Sicily & Sardinia\", \"country\": \"Italy\", \"winery\": \"Nicosia\"}\n",
      "{\"points\": \"87\", \"title\": \"Nicosia 2013 Vulk\\u00e0 Bianco  (Etna)\", \"description\": \"Aromas include tropical fruit, broom, brimstone and dried herb. The palate isn't overly expressive, offering unripened apple, citrus and dried sage alongside brisk acidity.\", \"taster_name\": \"Kerin O\\u2019Keefe\", \"taster_twitter_handle\": \"@kerinokeefe\", \"price\": null, \"designation\": \"Vulk\\u00e0 Bianco\", \"variety\": \"White Blend\", \"region_1\": \"Etna\", \"region_2\": null, \"province\": \"Sicily & Sardinia\", \"country\": \"Italy\", \"winery\": \"Nicosia\"}\n",
      "{\"points\": \"87\", \"title\": \"Quinta dos Avidagos 2011 Avidagos Red (Douro)\", \"description\": \"This is ripe and fruity, a wine that is smooth while still structured. Firm tannins are filled out with juicy red berry fruits and freshened with acidity. It's  already drinkable, although it will certainly be better from 2016.\", \"taster_name\": \"Roger Voss\", \"taster_twitter_handle\": \"@vossroger\", \"price\": 15, \"designation\": \"Avidagos\", \"variety\": \"Portuguese Red\", \"region_1\": null\n"
     ]
    }
   ],
   "source": [
    "# preprocess json\n",
    "# (torchtext needs a file with a new json record per row and not a proper json)\n",
    "import json\n",
    "with open('datasets/winemag-data-130k-v2.json') as f:\n",
    "    jsonfile = json.loads(f.read())\n",
    "res = ''\n",
    "print(str(jsonfile[0]))\n",
    "print(json.dumps(jsonfile[0]))\n",
    "for record in jsonfile:\n",
    "    res += json.dumps(record) + '\\n'\n",
    "\n",
    "print(res[:1000])\n"
   ]
  },
  {
   "cell_type": "code",
   "execution_count": 7,
   "metadata": {},
   "outputs": [],
   "source": [
    "# Write preprocessed json to new file\n",
    "with open('testfile', 'w') as out:\n",
    "    out.write(res)"
   ]
  },
  {
   "cell_type": "code",
   "execution_count": 8,
   "metadata": {},
   "outputs": [],
   "source": [
    "# Setup a dataset from the preprocessed json\n",
    "train_dataset = data.TabularDataset(\n",
    "    path='testfile',\n",
    "    format='json',\n",
    "    fields={'description': ('description', data.Field(sequential=True)),\n",
    "            'points': ('points', data.Field(sequential=False))}\n",
    ")"
   ]
  },
  {
   "cell_type": "code",
   "execution_count": 10,
   "metadata": {},
   "outputs": [
    {
     "name": "stdout",
     "output_type": "stream",
     "text": [
      "90980\n"
     ]
    }
   ],
   "source": [
    "import random\n",
    "vars(train_dataset.examples[0])\n",
    "train_data, valid_data = train_dataset.split(random_state = random.seed(SEED))\n",
    "print(len(train_data))"
   ]
  },
  {
   "cell_type": "code",
   "execution_count": 13,
   "metadata": {},
   "outputs": [],
   "source": [
    "MAX_VOCAB_SIZE = 25_000\n",
    "\n",
    "TEXT.build_vocab(train_data, max_size = MAX_VOCAB_SIZE)\n",
    "LABEL.build_vocab(train_data)"
   ]
  },
  {
   "cell_type": "code",
   "execution_count": 14,
   "metadata": {},
   "outputs": [
    {
     "name": "stdout",
     "output_type": "stream",
     "text": [
      "Unique tokens in TEXT vocabulary: 2\n"
     ]
    }
   ],
   "source": [
    "print(f\"Unique tokens in TEXT vocabulary: {len(TEXT.vocab)}\")"
   ]
  },
  {
   "cell_type": "code",
   "execution_count": null,
   "metadata": {},
   "outputs": [],
   "source": []
  }
 ],
 "metadata": {
  "kernelspec": {
   "display_name": "Python 3",
   "language": "python",
   "name": "python3"
  },
  "language_info": {
   "codemirror_mode": {
    "name": "ipython",
    "version": 3
   },
   "file_extension": ".py",
   "mimetype": "text/x-python",
   "name": "python",
   "nbconvert_exporter": "python",
   "pygments_lexer": "ipython3",
   "version": "3.7.0"
  }
 },
 "nbformat": 4,
 "nbformat_minor": 2
}
