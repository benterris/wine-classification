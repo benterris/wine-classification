{
 "cells": [
  {
   "cell_type": "code",
   "execution_count": 10,
   "metadata": {},
   "outputs": [],
   "source": [
    "import torch\n",
    "import numpy as np\n",
    "from torchtext import data\n",
    "\n",
    "SEED = 1452 # for reproducibility\n",
    "torch.manual_seed(SEED)\n",
    "torch.backends.cudnn.deterministic = True\n",
    "\n",
    "TEXT = data.Field(tokenize= 'spacy')\n",
    "LABEL = data.LabelField(dtype=torch.float)\n"
   ]
  },
  {
   "cell_type": "code",
   "execution_count": 14,
   "metadata": {},
   "outputs": [
    {
     "name": "stdout",
     "output_type": "stream",
     "text": [
      "129976\n"
     ]
    }
   ],
   "source": [
    "# Load dataset\n",
    "with open('datasets/winemag-data-130k-v2.csv') as f:\n",
    "    lines = f.readlines()\n",
    "\n",
    "print(len(lines))"
   ]
  },
  {
   "cell_type": "code",
   "execution_count": 15,
   "metadata": {},
   "outputs": [
    {
     "name": "stdout",
     "output_type": "stream",
     "text": [
      "38992\n",
      "90984\n"
     ]
    }
   ],
   "source": [
    "# Split in train and test\n",
    "# @Pierre: en fait on utilisera plutot le split de torchtext (voir plus bas)\n",
    "\n",
    "TEST_SET_SIZE = .3\n",
    "\n",
    "indices = list(range(len(lines)))\n",
    "np.random.seed(SEED)\n",
    "np.random.shuffle(indices)\n",
    "split_index = int(TEST_SET_SIZE*len(lines))\n",
    "train_indices = indices[:split_index]\n",
    "test_indices = indices[split_index:]\n",
    "train_set = [lines[k] for k in train_indices]\n",
    "test_set = [lines[k] for k in test_indices]\n",
    "\n",
    "print(len(train_set))\n",
    "print(len(test_set))"
   ]
  },
  {
   "cell_type": "code",
   "execution_count": 31,
   "metadata": {},
   "outputs": [
    {
     "name": "stdout",
     "output_type": "stream",
     "text": [
      "{'region_1': 'Etna', 'price': None, 'designation': 'Vulkà Bianco', 'taster_twitter_handle': '@kerinokeefe', 'title': 'Nicosia 2013 Vulkà Bianco  (Etna)', 'taster_name': 'Kerin O’Keefe', 'description': \"Aromas include tropical fruit, broom, brimstone and dried herb. The palate isn't overly expressive, offering unripened apple, citrus and dried sage alongside brisk acidity.\", 'winery': 'Nicosia', 'points': '87', 'variety': 'White Blend', 'province': 'Sicily & Sardinia', 'country': 'Italy', 'region_2': None}\n",
      "{\"region_1\": \"Etna\", \"price\": null, \"designation\": \"Vulk\\u00e0 Bianco\", \"taster_twitter_handle\": \"@kerinokeefe\", \"title\": \"Nicosia 2013 Vulk\\u00e0 Bianco  (Etna)\", \"taster_name\": \"Kerin O\\u2019Keefe\", \"description\": \"Aromas include tropical fruit, broom, brimstone and dried herb. The palate isn't overly expressive, offering unripened apple, citrus and dried sage alongside brisk acidity.\", \"winery\": \"Nicosia\", \"points\": \"87\", \"variety\": \"White Blend\", \"province\": \"Sicily & Sardinia\", \"country\": \"Italy\", \"region_2\": null}\n",
      "{\"region_1\": \"Etna\", \"price\": null, \"designation\": \"Vulk\\u00e0 Bianco\", \"taster_twitter_handle\": \"@kerinokeefe\", \"title\": \"Nicosia 2013 Vulk\\u00e0 Bianco  (Etna)\", \"taster_name\": \"Kerin O\\u2019Keefe\", \"description\": \"Aromas include tropical fruit, broom, brimstone and dried herb. The palate isn't overly expressive, offering unripened apple, citrus and dried sage alongside brisk acidity.\", \"winery\": \"Nicosia\", \"points\": \"87\", \"variety\": \"White Blend\", \"province\": \"Sicily & Sardinia\", \"country\": \"Italy\", \"region_2\": null}\n",
      "{\"region_1\": null, \"price\": 15, \"designation\": \"Avidagos\", \"taster_twitter_handle\": \"@vossroger\", \"title\": \"Quinta dos Avidagos 2011 Avidagos Red (Douro)\", \"taster_name\": \"Roger Voss\", \"description\": \"This is ripe and fruity, a wine that is smooth while still structured. Firm tannins are filled out with juicy red berry fruits and freshened with acidity. It's  already drinkable, although it will certainly be better from 2016.\", \"winery\": \"Quinta dos Avidagos\", \"points\": \n"
     ]
    }
   ],
   "source": [
    "# preprocess json\n",
    "# (torchtext needs a file with a new json record per row and not a proper json)\n",
    "import json\n",
    "with open('datasets/winemag-data-130k-v2.json') as f:\n",
    "    jsonfile = json.loads(f.read())\n",
    "res = ''\n",
    "print(str(jsonfile[0]))\n",
    "print(json.dumps(jsonfile[0]))\n",
    "for record in jsonfile:\n",
    "    res += json.dumps(record) + '\\n'\n",
    "\n",
    "print(res[:1000])\n"
   ]
  },
  {
   "cell_type": "code",
   "execution_count": 32,
   "metadata": {},
   "outputs": [],
   "source": [
    "# Write preprocessed json to new file\n",
    "with open('testfile', 'w') as out:\n",
    "    out.write(res)"
   ]
  },
  {
   "cell_type": "code",
   "execution_count": 33,
   "metadata": {},
   "outputs": [],
   "source": [
    "# Setup a dataset from the preprocessed json\n",
    "train_dataset = data.TabularDataset(\n",
    "    path='testfile',\n",
    "    format='json',\n",
    "    fields={'description': ('description', data.Field(sequential=True)),\n",
    "            'points': ('points', data.Field(sequential=False))}\n",
    ")"
   ]
  },
  {
   "cell_type": "code",
   "execution_count": 39,
   "metadata": {},
   "outputs": [
    {
     "name": "stdout",
     "output_type": "stream",
     "text": [
      "<torchtext.data.dataset.Dataset object at 0x7f67231993c8>\n"
     ]
    }
   ],
   "source": [
    "import random\n",
    "vars(train_dataset.examples[0])\n",
    "train_data, valid_data = train_dataset.split(random_state = random.seed(SEED))\n",
    "print(train_data)"
   ]
  },
  {
   "cell_type": "code",
   "execution_count": null,
   "metadata": {},
   "outputs": [],
   "source": []
  }
 ],
 "metadata": {
  "kernelspec": {
   "display_name": "wineproject",
   "language": "python",
   "name": "wineproject"
  },
  "language_info": {
   "codemirror_mode": {
    "name": "ipython",
    "version": 3
   },
   "file_extension": ".py",
   "mimetype": "text/x-python",
   "name": "python",
   "nbconvert_exporter": "python",
   "pygments_lexer": "ipython3",
   "version": "3.5.3"
  }
 },
 "nbformat": 4,
 "nbformat_minor": 2
}
